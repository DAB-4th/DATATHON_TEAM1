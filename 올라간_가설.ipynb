{
  "nbformat": 4,
  "nbformat_minor": 0,
  "metadata": {
    "colab": {
      "provenance": []
    },
    "kernelspec": {
      "name": "python3",
      "display_name": "Python 3"
    },
    "language_info": {
      "name": "python"
    }
  },
  "cells": [
    {
      "cell_type": "code",
      "execution_count": 1,
      "metadata": {
        "id": "RxMco65EdoEW"
      },
      "outputs": [],
      "source": [
        "import numpy as np\n",
        "import pandas as pd"
      ]
    },
    {
      "cell_type": "code",
      "source": [
        "import matplotlib\n",
        "from matplotlib import font_manager\n",
        "\n",
        "!sudo apt-get install -y fonts-nanum\n",
        "!sudo fc-cache -fv\n",
        "\n",
        "fontpaths = [\"/usr/share/fonts/truetype/nanum/\"]\n",
        "font_files = font_manager.findSystemFonts(fontpaths=fontpaths)\n",
        "\n",
        "for ff in font_files:\n",
        "    font_manager.fontManager.addfont(ff)\n",
        "\n",
        "matplotlib.rc('font', family=\"NanumGothic\")\n",
        "matplotlib.rcParams['axes.unicode_minus'] = False"
      ],
      "metadata": {
        "colab": {
          "base_uri": "https://localhost:8080/"
        },
        "id": "xYslqLg6f6pm",
        "outputId": "b31e61d3-bfe9-4459-e835-b39df2b79029"
      },
      "execution_count": 2,
      "outputs": [
        {
          "output_type": "stream",
          "name": "stdout",
          "text": [
            "Reading package lists... Done\n",
            "Building dependency tree... Done\n",
            "Reading state information... Done\n",
            "The following NEW packages will be installed:\n",
            "  fonts-nanum\n",
            "0 upgraded, 1 newly installed, 0 to remove and 34 not upgraded.\n",
            "Need to get 10.3 MB of archives.\n",
            "After this operation, 34.1 MB of additional disk space will be used.\n",
            "Get:1 http://archive.ubuntu.com/ubuntu jammy/universe amd64 fonts-nanum all 20200506-1 [10.3 MB]\n",
            "Fetched 10.3 MB in 1s (8,526 kB/s)\n",
            "debconf: unable to initialize frontend: Dialog\n",
            "debconf: (No usable dialog-like program is installed, so the dialog based frontend cannot be used. at /usr/share/perl5/Debconf/FrontEnd/Dialog.pm line 78, <> line 1.)\n",
            "debconf: falling back to frontend: Readline\n",
            "debconf: unable to initialize frontend: Readline\n",
            "debconf: (This frontend requires a controlling tty.)\n",
            "debconf: falling back to frontend: Teletype\n",
            "dpkg-preconfigure: unable to re-open stdin: \n",
            "Selecting previously unselected package fonts-nanum.\n",
            "(Reading database ... 126102 files and directories currently installed.)\n",
            "Preparing to unpack .../fonts-nanum_20200506-1_all.deb ...\n",
            "Unpacking fonts-nanum (20200506-1) ...\n",
            "Setting up fonts-nanum (20200506-1) ...\n",
            "Processing triggers for fontconfig (2.13.1-4.2ubuntu5) ...\n",
            "/usr/share/fonts: caching, new cache contents: 0 fonts, 1 dirs\n",
            "/usr/share/fonts/truetype: caching, new cache contents: 0 fonts, 3 dirs\n",
            "/usr/share/fonts/truetype/humor-sans: caching, new cache contents: 1 fonts, 0 dirs\n",
            "/usr/share/fonts/truetype/liberation: caching, new cache contents: 16 fonts, 0 dirs\n",
            "/usr/share/fonts/truetype/nanum: caching, new cache contents: 12 fonts, 0 dirs\n",
            "/usr/local/share/fonts: caching, new cache contents: 0 fonts, 0 dirs\n",
            "/root/.local/share/fonts: skipping, no such directory\n",
            "/root/.fonts: skipping, no such directory\n",
            "/usr/share/fonts/truetype: skipping, looped directory detected\n",
            "/usr/share/fonts/truetype/humor-sans: skipping, looped directory detected\n",
            "/usr/share/fonts/truetype/liberation: skipping, looped directory detected\n",
            "/usr/share/fonts/truetype/nanum: skipping, looped directory detected\n",
            "/var/cache/fontconfig: cleaning cache directory\n",
            "/root/.cache/fontconfig: not cleaning non-existent cache directory\n",
            "/root/.fontconfig: not cleaning non-existent cache directory\n",
            "fc-cache: succeeded\n"
          ]
        }
      ]
    },
    {
      "cell_type": "code",
      "source": [
        "from google.colab import drive\n",
        "drive.mount('/content/drive')"
      ],
      "metadata": {
        "colab": {
          "base_uri": "https://localhost:8080/"
        },
        "id": "lVlGU4buf9e2",
        "outputId": "3776a45c-4ec4-4644-c0ec-6742cfbe7d24"
      },
      "execution_count": 3,
      "outputs": [
        {
          "output_type": "stream",
          "name": "stdout",
          "text": [
            "Mounted at /content/drive\n"
          ]
        }
      ]
    },
    {
      "cell_type": "code",
      "source": [
        "df9 = pd.read_excel('/content/drive/MyDrive/DATATHON/TOSS8.xlsx')"
      ],
      "metadata": {
        "id": "95GLW9PwgC1G"
      },
      "execution_count": 5,
      "outputs": []
    },
    {
      "cell_type": "code",
      "source": [
        "df9.shape"
      ],
      "metadata": {
        "colab": {
          "base_uri": "https://localhost:8080/"
        },
        "id": "Wzu21rjukPgc",
        "outputId": "a745edbf-b242-481c-cde4-16a53ba5f017"
      },
      "execution_count": 14,
      "outputs": [
        {
          "output_type": "execute_result",
          "data": {
            "text/plain": [
              "(342, 41)"
            ]
          },
          "metadata": {},
          "execution_count": 14
        }
      ]
    },
    {
      "cell_type": "code",
      "source": [
        "df9.info()"
      ],
      "metadata": {
        "colab": {
          "base_uri": "https://localhost:8080/"
        },
        "id": "SssjncC_kSiM",
        "outputId": "0263cd72-f752-4bca-a98f-f96fe050a780"
      },
      "execution_count": 15,
      "outputs": [
        {
          "output_type": "stream",
          "name": "stdout",
          "text": [
            "<class 'pandas.core.frame.DataFrame'>\n",
            "RangeIndex: 342 entries, 0 to 341\n",
            "Data columns (total 41 columns):\n",
            " #   Column    Non-Null Count  Dtype  \n",
            "---  ------    --------------  -----  \n",
            " 0   FA년도      342 non-null    int64  \n",
            " 1   구단명       342 non-null    object \n",
            " 2   선수명       342 non-null    object \n",
            " 3   세부 포지션    342 non-null    object \n",
            " 4   인정년수      342 non-null    int64  \n",
            " 5   구분        342 non-null    object \n",
            " 6   FA등급      342 non-null    object \n",
            " 7   플레이년도     342 non-null    int64  \n",
            " 8   Age       342 non-null    int64  \n",
            " 9   G         342 non-null    int64  \n",
            " 10  GS        342 non-null    int64  \n",
            " 11  GR        342 non-null    int64  \n",
            " 12  W         342 non-null    int64  \n",
            " 13  L         342 non-null    int64  \n",
            " 14  S         342 non-null    int64  \n",
            " 15  BLSV      342 non-null    int64  \n",
            " 16  HD        342 non-null    int64  \n",
            " 17  BLHD      342 non-null    int64  \n",
            " 18  IP        342 non-null    float64\n",
            " 19  ER        342 non-null    int64  \n",
            " 20  H         342 non-null    int64  \n",
            " 21  2B        342 non-null    int64  \n",
            " 22  3B        342 non-null    int64  \n",
            " 23  HR        342 non-null    int64  \n",
            " 24  BB        342 non-null    int64  \n",
            " 25  HP        342 non-null    int64  \n",
            " 26  SO        342 non-null    int64  \n",
            " 27  WP        342 non-null    int64  \n",
            " 28  ERA       342 non-null    float64\n",
            " 29  FIP       342 non-null    float64\n",
            " 30  선발 이닝     342 non-null    float64\n",
            " 31  구원 이닝     342 non-null    float64\n",
            " 32  선발 WAR    342 non-null    float64\n",
            " 33  구원 WAR    342 non-null    float64\n",
            " 34  종합 WAR    342 non-null    float64\n",
            " 35  연봉        342 non-null    int64  \n",
            " 36  비고1       342 non-null    object \n",
            " 37  비고2       342 non-null    object \n",
            " 38  잔류 여부     342 non-null    object \n",
            " 39  FA 계약 연수  342 non-null    int64  \n",
            " 40  FA 계약 총액  342 non-null    float64\n",
            "dtypes: float64(9), int64(24), object(8)\n",
            "memory usage: 109.7+ KB\n"
          ]
        }
      ]
    },
    {
      "cell_type": "code",
      "source": [
        "df9.isnull().sum()"
      ],
      "metadata": {
        "colab": {
          "base_uri": "https://localhost:8080/",
          "height": 1000
        },
        "id": "pdOl-cV2kTgM",
        "outputId": "aa4fdf11-6c08-4294-81f9-c7b33d7d2906"
      },
      "execution_count": 16,
      "outputs": [
        {
          "output_type": "execute_result",
          "data": {
            "text/plain": [
              "FA년도        0\n",
              "구단명         0\n",
              "선수명         0\n",
              "세부 포지션      0\n",
              "인정년수        0\n",
              "구분          0\n",
              "FA등급        0\n",
              "플레이년도       0\n",
              "Age         0\n",
              "G           0\n",
              "GS          0\n",
              "GR          0\n",
              "W           0\n",
              "L           0\n",
              "S           0\n",
              "BLSV        0\n",
              "HD          0\n",
              "BLHD        0\n",
              "IP          0\n",
              "ER          0\n",
              "H           0\n",
              "2B          0\n",
              "3B          0\n",
              "HR          0\n",
              "BB          0\n",
              "HP          0\n",
              "SO          0\n",
              "WP          0\n",
              "ERA         0\n",
              "FIP         0\n",
              "선발 이닝       0\n",
              "구원 이닝       0\n",
              "선발 WAR      0\n",
              "구원 WAR      0\n",
              "종합 WAR      0\n",
              "연봉          0\n",
              "비고1         0\n",
              "비고2         0\n",
              "잔류 여부       0\n",
              "FA 계약 연수    0\n",
              "FA 계약 총액    0\n",
              "dtype: int64"
            ],
            "text/html": [
              "<div>\n",
              "<style scoped>\n",
              "    .dataframe tbody tr th:only-of-type {\n",
              "        vertical-align: middle;\n",
              "    }\n",
              "\n",
              "    .dataframe tbody tr th {\n",
              "        vertical-align: top;\n",
              "    }\n",
              "\n",
              "    .dataframe thead th {\n",
              "        text-align: right;\n",
              "    }\n",
              "</style>\n",
              "<table border=\"1\" class=\"dataframe\">\n",
              "  <thead>\n",
              "    <tr style=\"text-align: right;\">\n",
              "      <th></th>\n",
              "      <th>0</th>\n",
              "    </tr>\n",
              "  </thead>\n",
              "  <tbody>\n",
              "    <tr>\n",
              "      <th>FA년도</th>\n",
              "      <td>0</td>\n",
              "    </tr>\n",
              "    <tr>\n",
              "      <th>구단명</th>\n",
              "      <td>0</td>\n",
              "    </tr>\n",
              "    <tr>\n",
              "      <th>선수명</th>\n",
              "      <td>0</td>\n",
              "    </tr>\n",
              "    <tr>\n",
              "      <th>세부 포지션</th>\n",
              "      <td>0</td>\n",
              "    </tr>\n",
              "    <tr>\n",
              "      <th>인정년수</th>\n",
              "      <td>0</td>\n",
              "    </tr>\n",
              "    <tr>\n",
              "      <th>구분</th>\n",
              "      <td>0</td>\n",
              "    </tr>\n",
              "    <tr>\n",
              "      <th>FA등급</th>\n",
              "      <td>0</td>\n",
              "    </tr>\n",
              "    <tr>\n",
              "      <th>플레이년도</th>\n",
              "      <td>0</td>\n",
              "    </tr>\n",
              "    <tr>\n",
              "      <th>Age</th>\n",
              "      <td>0</td>\n",
              "    </tr>\n",
              "    <tr>\n",
              "      <th>G</th>\n",
              "      <td>0</td>\n",
              "    </tr>\n",
              "    <tr>\n",
              "      <th>GS</th>\n",
              "      <td>0</td>\n",
              "    </tr>\n",
              "    <tr>\n",
              "      <th>GR</th>\n",
              "      <td>0</td>\n",
              "    </tr>\n",
              "    <tr>\n",
              "      <th>W</th>\n",
              "      <td>0</td>\n",
              "    </tr>\n",
              "    <tr>\n",
              "      <th>L</th>\n",
              "      <td>0</td>\n",
              "    </tr>\n",
              "    <tr>\n",
              "      <th>S</th>\n",
              "      <td>0</td>\n",
              "    </tr>\n",
              "    <tr>\n",
              "      <th>BLSV</th>\n",
              "      <td>0</td>\n",
              "    </tr>\n",
              "    <tr>\n",
              "      <th>HD</th>\n",
              "      <td>0</td>\n",
              "    </tr>\n",
              "    <tr>\n",
              "      <th>BLHD</th>\n",
              "      <td>0</td>\n",
              "    </tr>\n",
              "    <tr>\n",
              "      <th>IP</th>\n",
              "      <td>0</td>\n",
              "    </tr>\n",
              "    <tr>\n",
              "      <th>ER</th>\n",
              "      <td>0</td>\n",
              "    </tr>\n",
              "    <tr>\n",
              "      <th>H</th>\n",
              "      <td>0</td>\n",
              "    </tr>\n",
              "    <tr>\n",
              "      <th>2B</th>\n",
              "      <td>0</td>\n",
              "    </tr>\n",
              "    <tr>\n",
              "      <th>3B</th>\n",
              "      <td>0</td>\n",
              "    </tr>\n",
              "    <tr>\n",
              "      <th>HR</th>\n",
              "      <td>0</td>\n",
              "    </tr>\n",
              "    <tr>\n",
              "      <th>BB</th>\n",
              "      <td>0</td>\n",
              "    </tr>\n",
              "    <tr>\n",
              "      <th>HP</th>\n",
              "      <td>0</td>\n",
              "    </tr>\n",
              "    <tr>\n",
              "      <th>SO</th>\n",
              "      <td>0</td>\n",
              "    </tr>\n",
              "    <tr>\n",
              "      <th>WP</th>\n",
              "      <td>0</td>\n",
              "    </tr>\n",
              "    <tr>\n",
              "      <th>ERA</th>\n",
              "      <td>0</td>\n",
              "    </tr>\n",
              "    <tr>\n",
              "      <th>FIP</th>\n",
              "      <td>0</td>\n",
              "    </tr>\n",
              "    <tr>\n",
              "      <th>선발 이닝</th>\n",
              "      <td>0</td>\n",
              "    </tr>\n",
              "    <tr>\n",
              "      <th>구원 이닝</th>\n",
              "      <td>0</td>\n",
              "    </tr>\n",
              "    <tr>\n",
              "      <th>선발 WAR</th>\n",
              "      <td>0</td>\n",
              "    </tr>\n",
              "    <tr>\n",
              "      <th>구원 WAR</th>\n",
              "      <td>0</td>\n",
              "    </tr>\n",
              "    <tr>\n",
              "      <th>종합 WAR</th>\n",
              "      <td>0</td>\n",
              "    </tr>\n",
              "    <tr>\n",
              "      <th>연봉</th>\n",
              "      <td>0</td>\n",
              "    </tr>\n",
              "    <tr>\n",
              "      <th>비고1</th>\n",
              "      <td>0</td>\n",
              "    </tr>\n",
              "    <tr>\n",
              "      <th>비고2</th>\n",
              "      <td>0</td>\n",
              "    </tr>\n",
              "    <tr>\n",
              "      <th>잔류 여부</th>\n",
              "      <td>0</td>\n",
              "    </tr>\n",
              "    <tr>\n",
              "      <th>FA 계약 연수</th>\n",
              "      <td>0</td>\n",
              "    </tr>\n",
              "    <tr>\n",
              "      <th>FA 계약 총액</th>\n",
              "      <td>0</td>\n",
              "    </tr>\n",
              "  </tbody>\n",
              "</table>\n",
              "</div><br><label><b>dtype:</b> int64</label>"
            ]
          },
          "metadata": {},
          "execution_count": 16
        }
      ]
    },
    {
      "cell_type": "code",
      "source": [
        "import pandas as pd\n",
        "\n",
        "# 선수명 6개 이상 등장한 선수 필터링\n",
        "player= df9['선수명'].value_counts()\n",
        "players = player[player >= 6].index\n",
        "df9_f = df9[df9['선수명'].isin(players)]\n",
        "\n",
        "#  잔류 여부 잔류 또는 이적 남기기\n",
        "df9_f2 = df9_f[df9_f['잔류 여부'].isin(['잔류', '이적'])]\n",
        "\n",
        "df9_f2_sorted = df9_f2.sort_values(by=['선수명', 'FA년도'])\n",
        "\n",
        "#  FA 계약 총액 차이와 WAR 차이를 계산\n",
        "df9_f2_sorted['FA 계약 총액 차이'] = df9_f2_sorted.groupby('선수명')['FA 계약 총액'].diff()\n",
        "df9_f2_sorted['WAR 차이'] = df9_f2_sorted.groupby('선수명')['종합 WAR'].diff()\n",
        "\n",
        "print(df9_f2_sorted[['선수명', 'FA년도', 'WAR 차이', 'FA 계약 총액 차이', '잔류 여부']])"
      ],
      "metadata": {
        "colab": {
          "base_uri": "https://localhost:8080/"
        },
        "id": "y3VBK9BIgFgG",
        "outputId": "ee467f9e-636a-4c52-d6e5-86199c64e2ba"
      },
      "execution_count": 7,
      "outputs": [
        {
          "output_type": "stream",
          "name": "stdout",
          "text": [
            "     선수명  FA년도  WAR 차이  FA 계약 총액 차이 잔류 여부\n",
            "85   박정진  2014     NaN          NaN    잔류\n",
            "109  손승락  2016     NaN          NaN    이적\n",
            "123  송은범  2015     NaN          NaN    이적\n",
            "119  송은범  2020    0.00        -24.0    잔류\n",
            "147  양현종  2017     NaN          NaN    잔류\n",
            "152  오승환  2024     NaN          NaN    잔류\n",
            "171  우규민  2017     NaN          NaN    이적\n",
            "167  우규민  2021   -1.63        -55.0    잔류\n",
            "210  윤성환  2015     NaN          NaN    잔류\n",
            "206  윤성환  2019   -3.95        -70.0    잔류\n",
            "289  정우람  2016     NaN          NaN    이적\n",
            "285  정우람  2020    0.67        -45.0    잔류\n",
            "318  차우찬  2017     NaN          NaN    이적\n",
            "314  차우찬  2021   -3.20        -75.0    잔류\n"
          ]
        }
      ]
    },
    {
      "cell_type": "code",
      "source": [
        "a = df9_f2_sorted.dropna(how='any', axis=0)\n",
        "print(a)"
      ],
      "metadata": {
        "colab": {
          "base_uri": "https://localhost:8080/"
        },
        "id": "LrmWsUC6i-Kl",
        "outputId": "70271f68-3419-4f68-db94-eb438004beaf"
      },
      "execution_count": 8,
      "outputs": [
        {
          "output_type": "stream",
          "name": "stdout",
          "text": [
            "     FA년도 구단명  선수명 세부 포지션  인정년수   구분 FA등급  플레이년도  Age   G  ...  구원 WAR  \\\n",
            "119  2020  LG  송은범     RP     4  재자격    A   2019   35  63  ...    0.48   \n",
            "167  2021  삼성  우규민     RP     4  재자격    B   2020   35  52  ...    0.50   \n",
            "206  2019  삼성  윤성환     SP     4  재자격    A   2018   37  24  ...    0.48   \n",
            "285  2020  한화  정우람     CP     4  재자격    A   2019   34  57  ...    2.82   \n",
            "314  2021  LG  차우찬     SP     4  재자격    B   2020   33  13  ...    0.48   \n",
            "\n",
            "     종합 WAR      연봉  비고1  비고2  잔류 여부  FA 계약 연수  FA 계약 총액  FA 계약 총액 차이  WAR 차이  \n",
            "119    1.30   25000   고졸    0     잔류         2      10.0        -24.0    0.00  \n",
            "167    0.50   70000   고졸    0     잔류         2      10.0        -55.0   -1.63  \n",
            "206    0.80   80000   고졸    0     잔류         1      10.0        -70.0   -3.95  \n",
            "285    2.82   80000   고졸    0     잔류         4      39.0        -45.0    0.67  \n",
            "314    0.56  100000   고졸    0     잔류         2      20.0        -75.0   -3.20  \n",
            "\n",
            "[5 rows x 43 columns]\n"
          ]
        }
      ]
    },
    {
      "cell_type": "code",
      "source": [
        "import statsmodels.api as sm\n",
        "\n",
        "X = a[['FA 계약 총액 차이']]\n",
        "y = a['WAR 차이']\n",
        "\n",
        "X = sm.add_constant(X)\n",
        "\n",
        "model = sm.OLS(y, X).fit()\n",
        "\n",
        "print(\"t-values:\")\n",
        "print(model.tvalues)\n",
        "\n",
        "print(\"\\np-values:\")\n",
        "print(model.pvalues)\n"
      ],
      "metadata": {
        "colab": {
          "base_uri": "https://localhost:8080/"
        },
        "id": "_zZowCHXhD3n",
        "outputId": "7fcf7f41-7317-415b-8c7e-5a23c9d3723f"
      },
      "execution_count": 9,
      "outputs": [
        {
          "output_type": "stream",
          "name": "stdout",
          "text": [
            "t-values:\n",
            "const          1.744969\n",
            "FA 계약 총액 차이    2.890927\n",
            "dtype: float64\n",
            "\n",
            "p-values:\n",
            "const          0.179334\n",
            "FA 계약 총액 차이    0.062965\n",
            "dtype: float64\n"
          ]
        }
      ]
    },
    {
      "cell_type": "code",
      "source": [
        "#fa금액 차이 데이터 수 보다 bins 값이 더 높음\n",
        "import matplotlib.pyplot as plt\n",
        "\n",
        "plt.figure(figsize=(8,6))\n",
        "plt.hist(a['FA 계약 총액 차이'], bins=15, color='skyblue', edgecolor='black')\n",
        "plt.title('FA 계약 총액 차이 분포', fontsize=16)\n",
        "plt.xlabel('FA 계약 총액 차이', fontsize=14)\n",
        "plt.ylabel('빈도수', fontsize=14)\n",
        "plt.grid(True)\n",
        "plt.show()"
      ],
      "metadata": {
        "colab": {
          "base_uri": "https://localhost:8080/",
          "height": 571
        },
        "id": "c3VCMGW3hIG-",
        "outputId": "196c0a23-c9c1-4b40-cc84-089379ef8753"
      },
      "execution_count": 25,
      "outputs": [
        {
          "output_type": "display_data",
          "data": {
            "text/plain": [
              "<Figure size 800x600 with 1 Axes>"
            ],
            "image/png": "[encoded data removed]"
          },
          "metadata": {}
        }
      ]
    },
    {
      "cell_type": "code",
      "source": [
        "#WAR 차이\n",
        "plt.figure(figsize=(8,6))\n",
        "plt.hist(a['WAR 차이'], bins=15, color='salmon', edgecolor='black')\n",
        "plt.title('WAR 차이 분포', fontsize=16)\n",
        "plt.xlabel('WAR 차이', fontsize=14)\n",
        "plt.ylabel('빈도수', fontsize=14)\n",
        "plt.grid(True)\n",
        "plt.show()"
      ],
      "metadata": {
        "colab": {
          "base_uri": "https://localhost:8080/",
          "height": 570
        },
        "id": "lYQ_8Ch0hJdN",
        "outputId": "9b06d1e4-d715-4691-b3ad-75e87ddb84a0"
      },
      "execution_count": 13,
      "outputs": [
        {
          "output_type": "display_data",
          "data": {
            "text/plain": [
              "<Figure size 800x600 with 1 Axes>"
            ],
            "image/png": "[encoded data removed]"
          },
          "metadata": {}
        }
      ]
    },
    {
      "cell_type": "code",
      "source": [
        "df11 = pd.read_excel('/content/drive/MyDrive/DATATHON/YASS1111.xlsx')"
      ],
      "metadata": {
        "id": "5I4euH3WhKFt"
      },
      "execution_count": 17,
      "outputs": []
    },
    {
      "cell_type": "code",
      "source": [
        "df11.shape"
      ],
      "metadata": {
        "colab": {
          "base_uri": "https://localhost:8080/"
        },
        "id": "2tE_TrMehT0O",
        "outputId": "b6440f1c-0a3c-4ab9-8121-927d7ce04058"
      },
      "execution_count": 18,
      "outputs": [
        {
          "output_type": "execute_result",
          "data": {
            "text/plain": [
              "(650, 35)"
            ]
          },
          "metadata": {},
          "execution_count": 18
        }
      ]
    },
    {
      "cell_type": "code",
      "source": [
        "df11.info()"
      ],
      "metadata": {
        "colab": {
          "base_uri": "https://localhost:8080/"
        },
        "id": "PU7AHFE3hYGF",
        "outputId": "2771c073-b071-4d1f-c662-aa8f8a78de05"
      },
      "execution_count": 19,
      "outputs": [
        {
          "output_type": "stream",
          "name": "stdout",
          "text": [
            "<class 'pandas.core.frame.DataFrame'>\n",
            "RangeIndex: 650 entries, 0 to 649\n",
            "Data columns (total 35 columns):\n",
            " #   Column      Non-Null Count  Dtype  \n",
            "---  ------      --------------  -----  \n",
            " 0   FA년도        650 non-null    int64  \n",
            " 1   구단명         650 non-null    object \n",
            " 2   선수명         650 non-null    object \n",
            " 3   포지션         650 non-null    object \n",
            " 4   인정년수        650 non-null    int64  \n",
            " 5   구분          650 non-null    object \n",
            " 6   FA등급        650 non-null    object \n",
            " 7   플레이년도       650 non-null    int64  \n",
            " 8   Age         650 non-null    int64  \n",
            " 9   G           650 non-null    int64  \n",
            " 10  PA          650 non-null    int64  \n",
            " 11  AB          650 non-null    float64\n",
            " 12  R           650 non-null    int64  \n",
            " 13  H           650 non-null    int64  \n",
            " 14  2B          650 non-null    int64  \n",
            " 15  3B          650 non-null    int64  \n",
            " 16  HP          650 non-null    int64  \n",
            " 17  HR          650 non-null    int64  \n",
            " 18  RBI         650 non-null    int64  \n",
            " 19  SB          650 non-null    int64  \n",
            " 20  CS          650 non-null    int64  \n",
            " 21  BB          650 non-null    int64  \n",
            " 22  SO          650 non-null    int64  \n",
            " 23  GDP         650 non-null    int64  \n",
            " 24  SF          650 non-null    int64  \n",
            " 25  수비_필딩 RAA   650 non-null    float64\n",
            " 26  수비_포지션 RAA  650 non-null    float64\n",
            " 27  전체수비 RAA    650 non-null    float64\n",
            " 28  oWAR        650 non-null    float64\n",
            " 29  dWAR        650 non-null    float64\n",
            " 30  연봉          650 non-null    int64  \n",
            " 31  비고          650 non-null    object \n",
            " 32  잔류 여부       650 non-null    object \n",
            " 33  FA 계약 연수    650 non-null    int64  \n",
            " 34  FA 계약 총액    650 non-null    float64\n",
            "dtypes: float64(7), int64(21), object(7)\n",
            "memory usage: 177.9+ KB\n"
          ]
        }
      ]
    },
    {
      "cell_type": "code",
      "source": [
        "df11.isnull().sum()"
      ],
      "metadata": {
        "colab": {
          "base_uri": "https://localhost:8080/",
          "height": 1000
        },
        "id": "X8X1Pp6JhZ0N",
        "outputId": "8786d65d-9442-4fab-d685-ca5eaca08cc5"
      },
      "execution_count": 20,
      "outputs": [
        {
          "output_type": "execute_result",
          "data": {
            "text/plain": [
              "FA년도          0\n",
              "구단명           0\n",
              "선수명           0\n",
              "포지션           0\n",
              "인정년수          0\n",
              "구분            0\n",
              "FA등급          0\n",
              "플레이년도         0\n",
              "Age           0\n",
              "G             0\n",
              "PA            0\n",
              "AB            0\n",
              "R             0\n",
              "H             0\n",
              "2B            0\n",
              "3B            0\n",
              "HP            0\n",
              "HR            0\n",
              "RBI           0\n",
              "SB            0\n",
              "CS            0\n",
              "BB            0\n",
              "SO            0\n",
              "GDP           0\n",
              "SF            0\n",
              "수비_필딩 RAA     0\n",
              "수비_포지션 RAA    0\n",
              "전체수비 RAA      0\n",
              "oWAR          0\n",
              "dWAR          0\n",
              "연봉            0\n",
              "비고            0\n",
              "잔류 여부         0\n",
              "FA 계약 연수      0\n",
              "FA 계약 총액      0\n",
              "dtype: int64"
            ],
            "text/html": [
              "<div>\n",
              "<style scoped>\n",
              "    .dataframe tbody tr th:only-of-type {\n",
              "        vertical-align: middle;\n",
              "    }\n",
              "\n",
              "    .dataframe tbody tr th {\n",
              "        vertical-align: top;\n",
              "    }\n",
              "\n",
              "    .dataframe thead th {\n",
              "        text-align: right;\n",
              "    }\n",
              "</style>\n",
              "<table border=\"1\" class=\"dataframe\">\n",
              "  <thead>\n",
              "    <tr style=\"text-align: right;\">\n",
              "      <th></th>\n",
              "      <th>0</th>\n",
              "    </tr>\n",
              "  </thead>\n",
              "  <tbody>\n",
              "    <tr>\n",
              "      <th>FA년도</th>\n",
              "      <td>0</td>\n",
              "    </tr>\n",
              "    <tr>\n",
              "      <th>구단명</th>\n",
              "      <td>0</td>\n",
              "    </tr>\n",
              "    <tr>\n",
              "      <th>선수명</th>\n",
              "      <td>0</td>\n",
              "    </tr>\n",
              "    <tr>\n",
              "      <th>포지션</th>\n",
              "      <td>0</td>\n",
              "    </tr>\n",
              "    <tr>\n",
              "      <th>인정년수</th>\n",
              "      <td>0</td>\n",
              "    </tr>\n",
              "    <tr>\n",
              "      <th>구분</th>\n",
              "      <td>0</td>\n",
              "    </tr>\n",
              "    <tr>\n",
              "      <th>FA등급</th>\n",
              "      <td>0</td>\n",
              "    </tr>\n",
              "    <tr>\n",
              "      <th>플레이년도</th>\n",
              "      <td>0</td>\n",
              "    </tr>\n",
              "    <tr>\n",
              "      <th>Age</th>\n",
              "      <td>0</td>\n",
              "    </tr>\n",
              "    <tr>\n",
              "      <th>G</th>\n",
              "      <td>0</td>\n",
              "    </tr>\n",
              "    <tr>\n",
              "      <th>PA</th>\n",
              "      <td>0</td>\n",
              "    </tr>\n",
              "    <tr>\n",
              "      <th>AB</th>\n",
              "      <td>0</td>\n",
              "    </tr>\n",
              "    <tr>\n",
              "      <th>R</th>\n",
              "      <td>0</td>\n",
              "    </tr>\n",
              "    <tr>\n",
              "      <th>H</th>\n",
              "      <td>0</td>\n",
              "    </tr>\n",
              "    <tr>\n",
              "      <th>2B</th>\n",
              "      <td>0</td>\n",
              "    </tr>\n",
              "    <tr>\n",
              "      <th>3B</th>\n",
              "      <td>0</td>\n",
              "    </tr>\n",
              "    <tr>\n",
              "      <th>HP</th>\n",
              "      <td>0</td>\n",
              "    </tr>\n",
              "    <tr>\n",
              "      <th>HR</th>\n",
              "      <td>0</td>\n",
              "    </tr>\n",
              "    <tr>\n",
              "      <th>RBI</th>\n",
              "      <td>0</td>\n",
              "    </tr>\n",
              "    <tr>\n",
              "      <th>SB</th>\n",
              "      <td>0</td>\n",
              "    </tr>\n",
              "    <tr>\n",
              "      <th>CS</th>\n",
              "      <td>0</td>\n",
              "    </tr>\n",
              "    <tr>\n",
              "      <th>BB</th>\n",
              "      <td>0</td>\n",
              "    </tr>\n",
              "    <tr>\n",
              "      <th>SO</th>\n",
              "      <td>0</td>\n",
              "    </tr>\n",
              "    <tr>\n",
              "      <th>GDP</th>\n",
              "      <td>0</td>\n",
              "    </tr>\n",
              "    <tr>\n",
              "      <th>SF</th>\n",
              "      <td>0</td>\n",
              "    </tr>\n",
              "    <tr>\n",
              "      <th>수비_필딩 RAA</th>\n",
              "      <td>0</td>\n",
              "    </tr>\n",
              "    <tr>\n",
              "      <th>수비_포지션 RAA</th>\n",
              "      <td>0</td>\n",
              "    </tr>\n",
              "    <tr>\n",
              "      <th>전체수비 RAA</th>\n",
              "      <td>0</td>\n",
              "    </tr>\n",
              "    <tr>\n",
              "      <th>oWAR</th>\n",
              "      <td>0</td>\n",
              "    </tr>\n",
              "    <tr>\n",
              "      <th>dWAR</th>\n",
              "      <td>0</td>\n",
              "    </tr>\n",
              "    <tr>\n",
              "      <th>연봉</th>\n",
              "      <td>0</td>\n",
              "    </tr>\n",
              "    <tr>\n",
              "      <th>비고</th>\n",
              "      <td>0</td>\n",
              "    </tr>\n",
              "    <tr>\n",
              "      <th>잔류 여부</th>\n",
              "      <td>0</td>\n",
              "    </tr>\n",
              "    <tr>\n",
              "      <th>FA 계약 연수</th>\n",
              "      <td>0</td>\n",
              "    </tr>\n",
              "    <tr>\n",
              "      <th>FA 계약 총액</th>\n",
              "      <td>0</td>\n",
              "    </tr>\n",
              "  </tbody>\n",
              "</table>\n",
              "</div><br><label><b>dtype:</b> int64</label>"
            ]
          },
          "metadata": {},
          "execution_count": 20
        }
      ]
    },
    {
      "cell_type": "code",
      "source": [
        "import pandas as pd\n",
        "\n",
        "# 1. 선수명 6개 이상 등장한 선수 필터링\n",
        "player_c = df11['선수명'].value_counts()\n",
        "players_w = player_c[player_c >= 6].index\n",
        "df11_f = df11[df11['선수명'].isin(players_w)]\n",
        "\n",
        "# 2. 잔류 여부가 '잔류' 또는 '이적'으로 지정된 데이터만 남기기\n",
        "df11_f2 = df11_f[df11_f['잔류 여부'].isin(['잔류', '이적'])]\n",
        "\n",
        "df11_f2_sorted = df11_f2.sort_values(by=['선수명', 'FA년도'])\n",
        "\n",
        "df11_f2_sorted['종합 WAR'] = (\n",
        "    df11_f2_sorted['oWAR'] + df11_f2_sorted['dWAR']\n",
        ")\n",
        "\n",
        "# 4. FA 계약 총액 차이와 WAR 차이를 계산\n",
        "df11_f2_sorted['FA 계약 총액 차이'] = df11_f2_sorted.groupby('선수명')['FA 계약 총액'].diff()\n",
        "df11_f2_sorted['WAR 차이'] = df11_f2_sorted.groupby('선수명')['종합 WAR'].diff()\n",
        "\n",
        "print(df11_f2_sorted[['선수명', 'FA년도', 'WAR 차이', 'FA 계약 총액 차이', '잔류 여부']])"
      ],
      "metadata": {
        "colab": {
          "base_uri": "https://localhost:8080/"
        },
        "id": "LP2atLhVhcje",
        "outputId": "da895d41-94f4-4ae6-c080-05bce1153ce3"
      },
      "execution_count": 26,
      "outputs": [
        {
          "output_type": "stream",
          "name": "stdout",
          "text": [
            "     선수명  FA년도  WAR 차이  FA 계약 총액 차이 잔류 여부\n",
            "3    강민호  2014     NaN          NaN    잔류\n",
            "7    강민호  2018   0.060         5.00    이적\n",
            "11   강민호  2022   0.320       -44.00    잔류\n",
            "41   김강민  2015     NaN          NaN    잔류\n",
            "45   김강민  2020  -1.125       -46.00    잔류\n",
            "..   ...   ...     ...          ...   ...\n",
            "605  최준석  2018  -1.100       -34.45    이적\n",
            "615  최형우  2017     NaN          NaN    이적\n",
            "619  최형우  2021  -1.160       -53.00    잔류\n",
            "644  황재균  2017     NaN          NaN    이적\n",
            "648  황재균  2022  -2.080       -28.00    잔류\n",
            "\n",
            "[67 rows x 5 columns]\n"
          ]
        }
      ]
    },
    {
      "cell_type": "code",
      "source": [
        "a11 = df11_f2_sorted.dropna(how='any', axis=0)\n",
        "print(a11)"
      ],
      "metadata": {
        "colab": {
          "base_uri": "https://localhost:8080/"
        },
        "id": "NrmPRB18hfYn",
        "outputId": "2abbc5ed-803b-4e3d-dbd0-4c5c5fb7274f"
      },
      "execution_count": 27,
      "outputs": [
        {
          "output_type": "stream",
          "name": "stdout",
          "text": [
            "     FA년도  구단명  선수명 포지션  인정년수    구분 FA등급  플레이년도  Age    G  ...  oWAR   dWAR  \\\n",
            "7    2018   롯데  강민호   C     4   재자격    A   2017   32  130  ...  3.43  0.190   \n",
            "11   2022   삼성  강민호   C     4   재자격    C   2021   36  123  ...  3.91  0.030   \n",
            "45   2020   SK  김강민  CF     4   재자격    A   2019   37  127  ...  1.06  0.530   \n",
            "59   2024   LG  김민성  2B     4   재자격    B   2023   35  112  ...  1.14  0.480   \n",
            "73   2023   삼성  김상수  SS     4   재자격    B   2022   32   72  ...  0.38  0.265   \n",
            "87   2024  KIA  김선빈  2B     4   재자격    B   2023   34  119  ...  2.83  0.265   \n",
            "111  2021   두산  김재호  SS     4   재자격    B   2020   35  120  ...  2.07  0.265   \n",
            "126  2018  KIA  김주찬  1B     4   재자격    A   2017   36  122  ...  2.13  0.430   \n",
            "140  2020   한화  김태균  DH     4   재자격    A   2019   37  127  ...  1.58  0.265   \n",
            "149  2022   LG  김현수  LF     4  자격유지    B   2021   33  140  ...  3.53  0.265   \n",
            "198  2019   KT  박경수  2B     4   재자격    A   2018   34  135  ...  2.63  0.265   \n",
            "227  2020   NC  박석민  3B     4   재자격    A   2019   34  112  ...  3.16  0.265   \n",
            "241  2019   LG  박용택  DH     4   재자격    A   2018   39  134  ...  1.50  0.100   \n",
            "270  2018   NC  손시헌  SS     4   재자격    A   2017   37  124  ...  3.10  0.310   \n",
            "279  2022   롯데  손아섭  RF     4   재자격    B   2021   33  139  ...  2.91  0.265   \n",
            "298  2024   롯데  안치홍  2B     4   재자격    B   2023   33  121  ...  2.77  0.265   \n",
            "312  2023   NC  양의지   C     4   재자격    B   2022   35  130  ...  5.03  0.420   \n",
            "326  2020   두산  오재원  2B     4   재자격    A   2019   34   98  ...  2.12  0.265   \n",
            "340  2024   LG  오지환  SS     4   재자격    B   2023   33  126  ...  4.66  0.350   \n",
            "364  2020   KT  유한준  RF     4   재자격    A   2019   38  139  ...  3.08  0.265   \n",
            "378  2018   KT  이대형  CF     4   재자격    A   2017   34  100  ...  2.12  0.265   \n",
            "408  2020   한화  이성열  RF     4   재자격    A   2019   35  129  ...  2.47  0.265   \n",
            "423  2019   한화  이용규  CF     8  자격유지    A   2018   33  134  ...  1.68  0.040   \n",
            "438  2021   삼성  이원석  3B     4   재자격    B   2020   34  121  ...  0.80  0.265   \n",
            "452  2018   NC  이종욱  CF     4   재자격    A   2017   37  107  ...  1.33  0.180   \n",
            "461  2024   키움  이지영   C     4   재자격    B   2023   37   81  ...  0.38  0.120   \n",
            "470  2017   KT  이진영  DH     4   재자격    A   2016   36  115  ...  1.50  0.265   \n",
            "499  2024   롯데  전준우  DH     4   재자격    B   2023   37  138  ...  3.75  0.265   \n",
            "508  2018   한화  정근우  2B     4   재자격    A   2017   35  105  ...  2.87  0.220   \n",
            "522  2017   LG  정성훈  1B     4   재자격    A   2016   36  126  ...  1.21  0.265   \n",
            "591  2019   SK   최정  3B     4   재자격    A   2018   31  115  ...  2.86  0.400   \n",
            "605  2018   롯데  최준석  DH     4   재자격    A   2017   34  125  ...  0.54  0.265   \n",
            "619  2021  KIA  최형우  DH     4   재자격    B   2020   37  140  ...  6.32  0.265   \n",
            "648  2022   KT  황재균  3B     4   재자격    B   2021   34  117  ...  2.41  0.410   \n",
            "\n",
            "         연봉      비고  잔류 여부  FA 계약 연수  FA 계약 총액  종합 WAR  FA 계약 총액 차이  WAR 차이  \n",
            "7    100000      고졸     이적         4     80.00   3.620         5.00   0.060  \n",
            "11    50000  3번째 FA     잔류         4     36.00   3.940       -44.00   0.320  \n",
            "45    40000      고졸     잔류         2     10.00   1.590       -46.00  -1.125  \n",
            "59    18000  2번째 FA     이적         3      9.00   1.620        -9.00  -0.180  \n",
            "73    25000      고졸     이적         4     29.00   0.645        11.00   0.070  \n",
            "87    45000  2번째 FA     잔류         4     28.00   3.095         4.00  -0.010  \n",
            "111   65000      고졸     잔류         3     25.00   2.335       -25.00  -1.965  \n",
            "126   60000      고졸     잔류         3     27.00   2.560       -23.00  -0.745  \n",
            "140  100000      고졸     잔류         1     10.00   1.845       -74.00  -2.815  \n",
            "149  100000      고졸     잔류         6    115.00   3.795         0.00  -3.020  \n",
            "198   23000      고졸     잔류         3     26.00   2.895         7.80   2.260  \n",
            "227   75000      고졸     잔류         3     34.00   3.425       -62.00  -3.055  \n",
            "241   80000      고졸     잔류         2     25.00   1.600       -25.00  -2.550  \n",
            "270   40000      고졸     잔류         2     15.00   3.410       -15.00   0.950  \n",
            "279   50000      고졸     이적         4     64.00   3.175       -34.00  -2.415  \n",
            "298   50000  2번째 FA     이적         4     55.00   3.035        -1.00  -0.030  \n",
            "312  100000      고졸     이적         6    152.00   5.450        27.00  -1.300  \n",
            "326   55000      대졸     잔류         3     19.00   2.385       -19.00  -0.400  \n",
            "340   60000  2번째 FA     잔류         6    124.00   5.010        84.00  -0.080  \n",
            "364   60000      고졸     잔류         2     20.00   3.345       -40.00  -2.985  \n",
            "378   30000      고졸     잔류         2      4.00   2.385       -20.00   0.000  \n",
            "408   25000      고졸     잔류         2     14.00   2.735         9.00   1.830  \n",
            "423   40000      고졸     잔류         3     26.00   1.720       -41.00  -1.275  \n",
            "438   30000      고졸     잔류         4     27.00   1.065         0.00   0.735  \n",
            "452   50000      고졸     잔류         1      5.00   1.510       -45.00  -2.060  \n",
            "461   50000  2번째 FA     잔류         2      4.00   0.500       -14.00  -0.345  \n",
            "470   60000      고졸     잔류         2     15.00   1.765       -19.00  -2.120  \n",
            "499   50000  2번째 FA     잔류         4     47.00   4.015        13.00   0.300  \n",
            "508   70000      고졸     잔류         3     35.00   3.090       -35.00  -1.690  \n",
            "522   50000      고졸     잔류         1      7.00   1.475       -27.00  -4.640  \n",
            "591  120000      고졸     잔류         6    106.00   3.260        20.00   0.830  \n",
            "605   40000      고졸     이적         1      0.55   0.805       -34.45  -1.100  \n",
            "619  150000      고졸     잔류         3     47.00   6.585       -53.00  -1.160  \n",
            "648   80000      고졸     잔류         4     60.00   2.820       -28.00  -2.080  \n",
            "\n",
            "[34 rows x 38 columns]\n"
          ]
        }
      ]
    },
    {
      "cell_type": "code",
      "source": [
        "import statsmodels.api as sm\n",
        "\n",
        "\n",
        "X = a11[['FA 계약 총액 차이']]\n",
        "y = a11['WAR 차이']\n",
        "\n",
        "X = sm.add_constant(X)\n",
        "\n",
        "model = sm.OLS(y, X).fit()\n",
        "\n",
        "print(model.summary())"
      ],
      "metadata": {
        "colab": {
          "base_uri": "https://localhost:8080/"
        },
        "id": "K4lO_JiZhhpG",
        "outputId": "59c8f8a9-eb6a-44ed-c25d-7b44bba4cd56"
      },
      "execution_count": 28,
      "outputs": [
        {
          "output_type": "stream",
          "name": "stdout",
          "text": [
            "                            OLS Regression Results                            \n",
            "==============================================================================\n",
            "Dep. Variable:                 WAR 차이   R-squared:                       0.271\n",
            "Model:                            OLS   Adj. R-squared:                  0.248\n",
            "Method:                 Least Squares   F-statistic:                     11.87\n",
            "Date:                Fri, 09 May 2025   Prob (F-statistic):            0.00161\n",
            "Time:                        01:16:23   Log-Likelihood:                -56.997\n",
            "No. Observations:                  34   AIC:                             118.0\n",
            "Df Residuals:                      32   BIC:                             121.0\n",
            "Df Model:                           1                                         \n",
            "Covariance Type:            nonrobust                                         \n",
            "===============================================================================\n",
            "                  coef    std err          t      P>|t|      [0.025      0.975]\n",
            "-------------------------------------------------------------------------------\n",
            "const          -0.5013      0.261     -1.920      0.064      -1.033       0.030\n",
            "FA 계약 총액 차이     0.0267      0.008      3.446      0.002       0.011       0.042\n",
            "==============================================================================\n",
            "Omnibus:                        1.660   Durbin-Watson:                   2.403\n",
            "Prob(Omnibus):                  0.436   Jarque-Bera (JB):                0.967\n",
            "Skew:                          -0.407   Prob(JB):                        0.617\n",
            "Kurtosis:                       3.140   Cond. No.                         38.5\n",
            "==============================================================================\n",
            "\n",
            "Notes:\n",
            "[1] Standard Errors assume that the covariance matrix of the errors is correctly specified.\n"
          ]
        }
      ]
    },
    {
      "cell_type": "code",
      "source": [
        "import statsmodels.api as sm\n",
        "\n",
        "X = a11[['FA 계약 총액 차이']]\n",
        "y = a11['WAR 차이']\n",
        "\n",
        "X = sm.add_constant(X)\n",
        "\n",
        "model = sm.OLS(y, X).fit()\n",
        "\n",
        "print(\"t-values:\")\n",
        "print(model.tvalues)\n",
        "\n",
        "print(\"\\np-values:\")\n",
        "print(model.pvalues)\n"
      ],
      "metadata": {
        "colab": {
          "base_uri": "https://localhost:8080/"
        },
        "id": "4xWUvXPshjUN",
        "outputId": "4da8ca6e-3373-48bf-c8d1-993c32000481"
      },
      "execution_count": 29,
      "outputs": [
        {
          "output_type": "stream",
          "name": "stdout",
          "text": [
            "t-values:\n",
            "const         -1.920194\n",
            "FA 계약 총액 차이    3.445701\n",
            "dtype: float64\n",
            "\n",
            "p-values:\n",
            "const          0.063784\n",
            "FA 계약 총액 차이    0.001612\n",
            "dtype: float64\n"
          ]
        }
      ]
    },
    {
      "cell_type": "code",
      "source": [
        "#fa금액 차이\n",
        "import matplotlib.pyplot as plt\n",
        "\n",
        "plt.figure(figsize=(8,6))\n",
        "plt.hist(a11['FA 계약 총액 차이'], bins=15, color='skyblue', edgecolor='black')\n",
        "plt.title('FA 계약 총액 차이 분포', fontsize=16)\n",
        "plt.xlabel('FA 계약 총액 차이', fontsize=14)\n",
        "plt.ylabel('빈도수', fontsize=14)\n",
        "plt.grid(True)\n",
        "plt.show()"
      ],
      "metadata": {
        "colab": {
          "base_uri": "https://localhost:8080/",
          "height": 571
        },
        "id": "00OeuBDmho2W",
        "outputId": "3bdaa6ca-1653-419b-c6d7-9d155aa8c988"
      },
      "execution_count": 30,
      "outputs": [
        {
          "output_type": "display_data",
          "data": {
            "text/plain": [
              "<Figure size 800x600 with 1 Axes>"
            ],
            "image/png": "[encoded data removed]"
          },
          "metadata": {}
        }
      ]
    },
    {
      "cell_type": "code",
      "source": [
        "plt.figure(figsize=(8,6))\n",
        "plt.hist(a11['WAR 차이'], bins=15, color='salmon', edgecolor='black')\n",
        "plt.title('WAR 차이 분포', fontsize=16)\n",
        "plt.xlabel('WAR 차이', fontsize=14)\n",
        "plt.ylabel('빈도수', fontsize=14)\n",
        "plt.grid(True)\n",
        "plt.show()"
      ],
      "metadata": {
        "colab": {
          "base_uri": "https://localhost:8080/",
          "height": 570
        },
        "id": "1wLekPxRhriN",
        "outputId": "387411c4-7b22-4d60-9d59-6306f3ac7548"
      },
      "execution_count": 31,
      "outputs": [
        {
          "output_type": "display_data",
          "data": {
            "text/plain": [
              "<Figure size 800x600 with 1 Axes>"
            ],
            "image/png": "[encoded data removed]"
          },
          "metadata": {}
        }
      ]
    }
  ]
}